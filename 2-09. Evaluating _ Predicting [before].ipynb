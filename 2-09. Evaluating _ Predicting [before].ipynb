{
 "cells": [
  {
   "cell_type": "markdown",
   "metadata": {},
   "source": [
    "# TensorFlow: Evaluating & Prediction"
   ]
  },
  {
   "cell_type": "code",
   "execution_count": 1,
   "metadata": {},
   "outputs": [
    {
     "name": "stderr",
     "output_type": "stream",
     "text": [
      "c:\\users\\user\\appdata\\local\\programs\\python\\python37\\lib\\site-packages\\tensorflow\\python\\framework\\dtypes.py:516: FutureWarning: Passing (type, 1) or '1type' as a synonym of type is deprecated; in a future version of numpy, it will be understood as (type, (1,)) / '(1,)type'.\n",
      "  _np_qint8 = np.dtype([(\"qint8\", np.int8, 1)])\n",
      "c:\\users\\user\\appdata\\local\\programs\\python\\python37\\lib\\site-packages\\tensorflow\\python\\framework\\dtypes.py:517: FutureWarning: Passing (type, 1) or '1type' as a synonym of type is deprecated; in a future version of numpy, it will be understood as (type, (1,)) / '(1,)type'.\n",
      "  _np_quint8 = np.dtype([(\"quint8\", np.uint8, 1)])\n",
      "c:\\users\\user\\appdata\\local\\programs\\python\\python37\\lib\\site-packages\\tensorflow\\python\\framework\\dtypes.py:518: FutureWarning: Passing (type, 1) or '1type' as a synonym of type is deprecated; in a future version of numpy, it will be understood as (type, (1,)) / '(1,)type'.\n",
      "  _np_qint16 = np.dtype([(\"qint16\", np.int16, 1)])\n",
      "c:\\users\\user\\appdata\\local\\programs\\python\\python37\\lib\\site-packages\\tensorflow\\python\\framework\\dtypes.py:519: FutureWarning: Passing (type, 1) or '1type' as a synonym of type is deprecated; in a future version of numpy, it will be understood as (type, (1,)) / '(1,)type'.\n",
      "  _np_quint16 = np.dtype([(\"quint16\", np.uint16, 1)])\n",
      "c:\\users\\user\\appdata\\local\\programs\\python\\python37\\lib\\site-packages\\tensorflow\\python\\framework\\dtypes.py:520: FutureWarning: Passing (type, 1) or '1type' as a synonym of type is deprecated; in a future version of numpy, it will be understood as (type, (1,)) / '(1,)type'.\n",
      "  _np_qint32 = np.dtype([(\"qint32\", np.int32, 1)])\n",
      "c:\\users\\user\\appdata\\local\\programs\\python\\python37\\lib\\site-packages\\tensorflow\\python\\framework\\dtypes.py:525: FutureWarning: Passing (type, 1) or '1type' as a synonym of type is deprecated; in a future version of numpy, it will be understood as (type, (1,)) / '(1,)type'.\n",
      "  np_resource = np.dtype([(\"resource\", np.ubyte, 1)])\n",
      "c:\\users\\user\\appdata\\local\\programs\\python\\python37\\lib\\site-packages\\tensorboard\\compat\\tensorflow_stub\\dtypes.py:541: FutureWarning: Passing (type, 1) or '1type' as a synonym of type is deprecated; in a future version of numpy, it will be understood as (type, (1,)) / '(1,)type'.\n",
      "  _np_qint8 = np.dtype([(\"qint8\", np.int8, 1)])\n",
      "c:\\users\\user\\appdata\\local\\programs\\python\\python37\\lib\\site-packages\\tensorboard\\compat\\tensorflow_stub\\dtypes.py:542: FutureWarning: Passing (type, 1) or '1type' as a synonym of type is deprecated; in a future version of numpy, it will be understood as (type, (1,)) / '(1,)type'.\n",
      "  _np_quint8 = np.dtype([(\"quint8\", np.uint8, 1)])\n",
      "c:\\users\\user\\appdata\\local\\programs\\python\\python37\\lib\\site-packages\\tensorboard\\compat\\tensorflow_stub\\dtypes.py:543: FutureWarning: Passing (type, 1) or '1type' as a synonym of type is deprecated; in a future version of numpy, it will be understood as (type, (1,)) / '(1,)type'.\n",
      "  _np_qint16 = np.dtype([(\"qint16\", np.int16, 1)])\n",
      "c:\\users\\user\\appdata\\local\\programs\\python\\python37\\lib\\site-packages\\tensorboard\\compat\\tensorflow_stub\\dtypes.py:544: FutureWarning: Passing (type, 1) or '1type' as a synonym of type is deprecated; in a future version of numpy, it will be understood as (type, (1,)) / '(1,)type'.\n",
      "  _np_quint16 = np.dtype([(\"quint16\", np.uint16, 1)])\n",
      "c:\\users\\user\\appdata\\local\\programs\\python\\python37\\lib\\site-packages\\tensorboard\\compat\\tensorflow_stub\\dtypes.py:545: FutureWarning: Passing (type, 1) or '1type' as a synonym of type is deprecated; in a future version of numpy, it will be understood as (type, (1,)) / '(1,)type'.\n",
      "  _np_qint32 = np.dtype([(\"qint32\", np.int32, 1)])\n",
      "c:\\users\\user\\appdata\\local\\programs\\python\\python37\\lib\\site-packages\\tensorboard\\compat\\tensorflow_stub\\dtypes.py:550: FutureWarning: Passing (type, 1) or '1type' as a synonym of type is deprecated; in a future version of numpy, it will be understood as (type, (1,)) / '(1,)type'.\n",
      "  np_resource = np.dtype([(\"resource\", np.ubyte, 1)])\n"
     ]
    }
   ],
   "source": [
    "import tensorflow as tf\n",
    "from tensorflow.keras import layers\n",
    "\n",
    "from tensorflow.keras import datasets "
   ]
  },
  {
   "cell_type": "markdown",
   "metadata": {},
   "source": [
    "# Build Model"
   ]
  },
  {
   "cell_type": "code",
   "execution_count": 2,
   "metadata": {},
   "outputs": [],
   "source": [
    "input_shape = (28, 28, 1)\n",
    "num_classes = 10\n",
    "\n",
    "learning_rate = 0.001"
   ]
  },
  {
   "cell_type": "code",
   "execution_count": 3,
   "metadata": {},
   "outputs": [],
   "source": [
    "inputs = layers.Input(input_shape)\n",
    "net = layers.Conv2D(32, (3, 3), padding='SAME')(inputs)\n",
    "net = layers.Activation('relu')(net)\n",
    "net = layers.Conv2D(32, (3, 3), padding='SAME')(net)\n",
    "net = layers.Activation('relu')(net)\n",
    "net = layers.MaxPooling2D(pool_size=(2, 2))(net)\n",
    "net = layers.Dropout(0.5)(net)\n",
    "\n",
    "net = layers.Conv2D(64, (3, 3), padding='SAME')(net)\n",
    "net = layers.Activation('relu')(net)\n",
    "net = layers.Conv2D(64, (3, 3), padding='SAME')(net)\n",
    "net = layers.Activation('relu')(net)\n",
    "net = layers.MaxPooling2D(pool_size=(2, 2))(net)\n",
    "net = layers.Dropout(0.5)(net)\n",
    "\n",
    "net = layers.Flatten()(net)\n",
    "net = layers.Dense(512)(net)\n",
    "net = layers.Activation('relu')(net)\n",
    "net = layers.Dropout(0.5)(net)\n",
    "net = layers.Dense(num_classes)(net)\n",
    "net = layers.Activation('softmax')(net)\n",
    "\n",
    "model = tf.keras.Model(inputs=inputs, outputs=net, name='Basic_CNN')"
   ]
  },
  {
   "cell_type": "code",
   "execution_count": 4,
   "metadata": {},
   "outputs": [],
   "source": [
    "# Model is the full model w/o custom layers\n",
    "model.compile(optimizer=tf.keras.optimizers.Adam(learning_rate),\n",
    "              loss='sparse_categorical_crossentropy',\n",
    "              metrics=['accuracy'])"
   ]
  },
  {
   "cell_type": "markdown",
   "metadata": {},
   "source": [
    "# Preprocess"
   ]
  },
  {
   "cell_type": "markdown",
   "metadata": {},
   "source": [
    "데이터셋 불러오기 "
   ]
  },
  {
   "cell_type": "code",
   "execution_count": 23,
   "metadata": {},
   "outputs": [],
   "source": [
    "(train_x, train_y), (test_x, test_y) = datasets.mnist.load_data()\n"
   ]
  },
  {
   "cell_type": "code",
   "execution_count": 24,
   "metadata": {},
   "outputs": [],
   "source": [
    "train_x = train_x[..., tf.newaxis]\n",
    "test_x = test_x[..., tf.newaxis]\n",
    "\n",
    "train_x = train_x / 255.\n",
    "test_x = test_x / 255."
   ]
  },
  {
   "cell_type": "markdown",
   "metadata": {},
   "source": [
    "# Training"
   ]
  },
  {
   "cell_type": "code",
   "execution_count": 10,
   "metadata": {},
   "outputs": [],
   "source": [
    "num_epochs = 1\n",
    "batch_size = 64"
   ]
  },
  {
   "cell_type": "code",
   "execution_count": 11,
   "metadata": {},
   "outputs": [
    {
     "name": "stdout",
     "output_type": "stream",
     "text": [
      "WARNING:tensorflow:From c:\\users\\user\\appdata\\local\\programs\\python\\python37\\lib\\site-packages\\tensorflow\\python\\ops\\math_grad.py:1250: add_dispatch_support.<locals>.wrapper (from tensorflow.python.ops.array_ops) is deprecated and will be removed in a future version.\n",
      "Instructions for updating:\n",
      "Use tf.where in 2.0, which has the same broadcast rule as np.where\n",
      "Train on 60000 samples\n",
      "60000/60000 [==============================] - 98s 2ms/sample - loss: 0.2288 - accuracy: 0.9262\n"
     ]
    }
   ],
   "source": [
    "hist = model.fit(train_x, train_y, \n",
    "                 batch_size=batch_size, \n",
    "                 shuffle=True)"
   ]
  },
  {
   "cell_type": "code",
   "execution_count": 14,
   "metadata": {},
   "outputs": [
    {
     "data": {
      "text/plain": [
       "{'loss': [0.2287509350205461], 'accuracy': [0.92625]}"
      ]
     },
     "execution_count": 14,
     "metadata": {},
     "output_type": "execute_result"
    }
   ],
   "source": [
    "hist.history # 1 epoch당  여러개면 리스트형태로 생김 "
   ]
  },
  {
   "cell_type": "markdown",
   "metadata": {},
   "source": [
    "# Evaluating  \n",
    "- 학습한 모델 확인"
   ]
  },
  {
   "cell_type": "code",
   "execution_count": 15,
   "metadata": {},
   "outputs": [
    {
     "name": "stdout",
     "output_type": "stream",
     "text": [
      "60000/60000 [==============================] - 18s 292us/sample - loss: 0.0450 - accuracy: 0.9860\n"
     ]
    },
    {
     "data": {
      "text/plain": [
       "[0.04504340678251659, 0.9860167]"
      ]
     },
     "execution_count": 15,
     "metadata": {},
     "output_type": "execute_result"
    }
   ],
   "source": [
    "model.evaluate(train_x,train_y, batch_size=batch_size)"
   ]
  },
  {
   "cell_type": "markdown",
   "metadata": {},
   "source": [
    "### 결과 확인"
   ]
  },
  {
   "cell_type": "markdown",
   "metadata": {},
   "source": [
    "Input으로 들어갈 이미지 데이터 확인"
   ]
  },
  {
   "cell_type": "code",
   "execution_count": 16,
   "metadata": {},
   "outputs": [],
   "source": [
    "import matplotlib.pyplot as plt\n",
    "\n",
    "import numpy as np\n",
    "\n",
    "%matplotlib inline"
   ]
  },
  {
   "cell_type": "code",
   "execution_count": 42,
   "metadata": {},
   "outputs": [
    {
     "data": {
      "text/plain": [
       "(28, 28)"
      ]
     },
     "execution_count": 42,
     "metadata": {},
     "output_type": "execute_result"
    }
   ],
   "source": [
    "test_image = test_x[0,:,:,0]\n",
    "test_image.shape\n"
   ]
  },
  {
   "cell_type": "code",
   "execution_count": 44,
   "metadata": {},
   "outputs": [
    {
     "data": {
      "image/png": "[encoded data removed]",
      "text/plain": [
       "<Figure size 432x288 with 1 Axes>"
      ]
     },
     "metadata": {
      "needs_background": "light"
     },
     "output_type": "display_data"
    }
   ],
   "source": [
    "plt.title(test_y[0]) # = test_x[0,:,:,0]  \n",
    "plt.imshow(test_image,'gray')\n",
    "plt.show()"
   ]
  },
  {
   "cell_type": "code",
   "execution_count": 45,
   "metadata": {},
   "outputs": [
    {
     "data": {
      "image/png": "[encoded data removed]",
      "text/plain": [
       "<Figure size 432x288 with 1 Axes>"
      ]
     },
     "metadata": {
      "needs_background": "light"
     },
     "output_type": "display_data"
    }
   ],
   "source": [
    "test_image = test_x[1,:,:,0]\n",
    "test_image.shape\n",
    "plt.title(test_y[1]) # = test_x[0,:,:,0]  \n",
    "plt.imshow(test_image,'gray')\n",
    "plt.show()"
   ]
  },
  {
   "cell_type": "code",
   "execution_count": null,
   "metadata": {},
   "outputs": [],
   "source": []
  },
  {
   "cell_type": "markdown",
   "metadata": {},
   "source": [
    "- 모델에 Input Data로 확인 할 이미지 데이터 넣기"
   ]
  },
  {
   "cell_type": "code",
   "execution_count": 33,
   "metadata": {},
   "outputs": [
    {
     "data": {
      "text/plain": [
       "(28, 28)"
      ]
     },
     "execution_count": 33,
     "metadata": {},
     "output_type": "execute_result"
    }
   ],
   "source": [
    "test_image.shape"
   ]
  },
  {
   "cell_type": "code",
   "execution_count": 50,
   "metadata": {},
   "outputs": [
    {
     "name": "stdout",
     "output_type": "stream",
     "text": [
      "(1, 10) 0000000000 10개 있다는 같은 말 \n"
     ]
    }
   ],
   "source": [
    "pred = model.predict(test_image.reshape(1,28,28,1))\n",
    "pred.shape\n",
    "\n",
    "print(pred.shape,'0000000000 10개 있다는 같은 말 ')"
   ]
  },
  {
   "cell_type": "code",
   "execution_count": 36,
   "metadata": {},
   "outputs": [
    {
     "data": {
      "text/plain": [
       "array([[3.8851091e-08, 1.3023698e-07, 2.2637300e-06, 4.1188628e-06,\n",
       "        8.3790761e-09, 8.8693159e-09, 9.5095903e-11, 9.9998319e-01,\n",
       "        4.6216876e-08, 1.0295650e-05]], dtype=float32)"
      ]
     },
     "execution_count": 36,
     "metadata": {},
     "output_type": "execute_result"
    }
   ],
   "source": [
    "pred"
   ]
  },
  {
   "cell_type": "markdown",
   "metadata": {},
   "source": [
    "- np.argmax"
   ]
  },
  {
   "cell_type": "code",
   "execution_count": 37,
   "metadata": {},
   "outputs": [
    {
     "data": {
      "text/plain": [
       "7"
      ]
     },
     "execution_count": 37,
     "metadata": {},
     "output_type": "execute_result"
    }
   ],
   "source": [
    "np.argmax(pred)"
   ]
  },
  {
   "cell_type": "markdown",
   "metadata": {},
   "source": [
    "## Test Batch"
   ]
  },
  {
   "cell_type": "markdown",
   "metadata": {},
   "source": [
    "Batch로 Test Dataset 넣기"
   ]
  },
  {
   "cell_type": "code",
   "execution_count": 47,
   "metadata": {},
   "outputs": [
    {
     "data": {
      "text/plain": [
       "(32, 28, 28, 1)"
      ]
     },
     "execution_count": 47,
     "metadata": {},
     "output_type": "execute_result"
    }
   ],
   "source": [
    "test_batch = test_x[:32]\n",
    "test_batch.shape # 32 개 있음 ravel()할 필요 없음 "
   ]
  },
  {
   "cell_type": "markdown",
   "metadata": {},
   "source": [
    "Batch Test Dataset 모델에 넣기"
   ]
  },
  {
   "cell_type": "code",
   "execution_count": 48,
   "metadata": {},
   "outputs": [
    {
     "data": {
      "text/plain": [
       "(32, 10)"
      ]
     },
     "execution_count": 48,
     "metadata": {},
     "output_type": "execute_result"
    }
   ],
   "source": [
    "preds = model.predict(test_batch)\n",
    "preds.shape"
   ]
  },
  {
   "cell_type": "markdown",
   "metadata": {},
   "source": [
    "- 결과 확인"
   ]
  },
  {
   "cell_type": "code",
   "execution_count": 53,
   "metadata": {},
   "outputs": [
    {
     "data": {
      "text/plain": [
       "array([[3.88510202e-08, 1.30236614e-07, 2.26372367e-06, 4.11885912e-06,\n",
       "        8.37904413e-09, 8.86929907e-09, 9.50959034e-11, 9.99983191e-01,\n",
       "        4.62167868e-08, 1.02956501e-05],\n",
       "       [6.38042025e-07, 3.58524776e-05, 9.99960303e-01, 3.51490343e-07,\n",
       "        3.19829780e-08, 2.16126117e-10, 3.91005244e-07, 1.37618417e-09,\n",
       "        2.46661898e-06, 2.70190242e-11],\n",
       "       [3.82573635e-05, 9.98670101e-01, 6.57944984e-05, 4.33430296e-06,\n",
       "        3.02369066e-04, 3.63853796e-05, 5.49335789e-04, 1.89784478e-04,\n",
       "        1.23263075e-04, 2.04636763e-05],\n",
       "       [9.99779046e-01, 4.65142769e-08, 4.53888379e-06, 7.97472239e-08,\n",
       "        3.90800005e-06, 3.66051609e-07, 1.95302302e-04, 3.69894224e-07,\n",
       "        3.44305658e-06, 1.29072960e-05],\n",
       "       [2.78445839e-07, 9.51737178e-08, 6.49094886e-07, 1.79842683e-08,\n",
       "        9.99887943e-01, 7.64886749e-08, 4.30115506e-06, 4.17693855e-07,\n",
       "        1.62152230e-06, 1.04465253e-04],\n",
       "       [8.32531350e-06, 9.99601543e-01, 1.51905779e-05, 5.51924416e-07,\n",
       "        9.19250087e-05, 4.49377922e-06, 9.77464006e-05, 1.11400608e-04,\n",
       "        5.97594408e-05, 9.17987290e-06],\n",
       "       [9.33986897e-08, 3.78527766e-05, 1.15685873e-06, 7.01782710e-07,\n",
       "        9.81840551e-01, 3.14004828e-05, 1.66324535e-05, 7.44177123e-06,\n",
       "        1.79391596e-02, 1.25020902e-04],\n",
       "       [1.62671495e-06, 7.88364741e-06, 3.04743771e-05, 1.07658170e-05,\n",
       "        2.36465912e-02, 9.63009370e-05, 1.23949076e-06, 4.42180226e-06,\n",
       "        4.13055270e-04, 9.75787640e-01],\n",
       "       [2.46107025e-04, 5.97352300e-06, 2.04821099e-05, 2.21193604e-05,\n",
       "        2.15796730e-03, 9.24527645e-01, 5.40409721e-02, 1.20974812e-06,\n",
       "        1.59192830e-02, 3.05828801e-03],\n",
       "       [6.45006537e-07, 5.56340183e-07, 6.52577285e-07, 4.92081781e-05,\n",
       "        3.98960285e-04, 9.65566323e-06, 5.32987698e-08, 3.38762766e-04,\n",
       "        6.08136412e-04, 9.98593390e-01],\n",
       "       [9.99990344e-01, 8.77022988e-09, 3.79227640e-06, 1.41568286e-08,\n",
       "        3.79612999e-08, 1.31771545e-08, 8.59524391e-07, 3.32903412e-08,\n",
       "        4.25227108e-06, 7.28398277e-07],\n",
       "       [3.34192991e-05, 2.27254787e-07, 1.17542911e-07, 1.36582052e-08,\n",
       "        4.92234267e-06, 1.77172581e-06, 9.99900341e-01, 1.38728351e-09,\n",
       "        5.91638163e-05, 2.86296604e-08],\n",
       "       [3.02812538e-07, 1.41687568e-08, 7.35304155e-08, 5.63259755e-06,\n",
       "        4.55483561e-04, 5.67019515e-06, 4.74796913e-08, 5.22459504e-06,\n",
       "        1.76803180e-04, 9.99350727e-01],\n",
       "       [9.99981880e-01, 6.38815001e-09, 4.02666245e-07, 2.89252746e-08,\n",
       "        1.41554068e-07, 9.67697531e-08, 2.84482212e-06, 3.17238630e-07,\n",
       "        1.08901340e-05, 3.50718256e-06],\n",
       "       [3.80127094e-05, 9.98287141e-01, 9.65266008e-05, 2.35994885e-04,\n",
       "        1.98270631e-04, 2.83854984e-04, 2.10311351e-04, 3.45597400e-05,\n",
       "        4.84213466e-04, 1.31298846e-04],\n",
       "       [4.40810055e-07, 3.24000371e-06, 6.38974257e-07, 1.67433952e-03,\n",
       "        7.76194256e-08, 9.98182416e-01, 4.90743241e-06, 1.11666020e-06,\n",
       "        1.27966996e-04, 5.00445185e-06],\n",
       "       [8.45486909e-07, 1.12842846e-08, 1.27636588e-06, 6.14617829e-06,\n",
       "        5.43397386e-04, 3.25827784e-07, 3.31840120e-08, 2.84912294e-05,\n",
       "        1.78803777e-04, 9.99240637e-01],\n",
       "       [4.54888323e-07, 1.69835786e-07, 6.71659427e-06, 4.71217536e-05,\n",
       "        1.31163773e-08, 6.04460340e-08, 1.75638920e-10, 9.99922156e-01,\n",
       "        2.82024928e-08, 2.32990569e-05],\n",
       "       [2.41971971e-03, 2.50088936e-03, 1.34574389e-03, 5.67930758e-01,\n",
       "        1.43927976e-03, 2.89652407e-01, 1.18210062e-03, 1.73017487e-03,\n",
       "        1.26879230e-01, 4.91958903e-03],\n",
       "       [2.80551529e-08, 7.18923559e-07, 3.51018855e-07, 7.93101762e-08,\n",
       "        9.99929309e-01, 1.03359355e-06, 5.40676979e-07, 3.69144686e-06,\n",
       "        1.98424891e-06, 6.21419822e-05],\n",
       "       [2.34579829e-06, 8.19114757e-06, 6.09127540e-07, 8.91019241e-04,\n",
       "        1.88805046e-04, 5.77205101e-05, 4.03131857e-08, 8.40364897e-04,\n",
       "        4.47806815e-05, 9.97966170e-01],\n",
       "       [1.15397836e-06, 2.19209866e-07, 2.11112848e-07, 9.08561901e-08,\n",
       "        8.15386284e-06, 9.50233545e-04, 9.98747110e-01, 2.01732200e-10,\n",
       "        2.92063341e-04, 7.35796561e-07],\n",
       "       [1.57933566e-04, 1.03385776e-06, 5.62667310e-07, 4.12148538e-08,\n",
       "        8.10791680e-04, 6.57817463e-06, 9.98955250e-01, 3.77403325e-07,\n",
       "        6.48659552e-05, 2.45558431e-06],\n",
       "       [1.48041162e-08, 4.92673236e-09, 1.11679932e-09, 5.06065908e-06,\n",
       "        1.33901210e-07, 9.99974966e-01, 3.94552899e-06, 1.50264509e-10,\n",
       "        5.48605499e-07, 1.52406928e-05],\n",
       "       [6.03917442e-06, 1.80213920e-05, 8.53774909e-05, 9.50796561e-07,\n",
       "        9.99143124e-01, 8.85436020e-06, 5.02397779e-05, 8.10158381e-05,\n",
       "        8.30785357e-05, 5.23228489e-04],\n",
       "       [9.99592960e-01, 1.19977273e-07, 6.69546571e-05, 2.46145902e-07,\n",
       "        2.20941529e-05, 2.27239326e-07, 1.95732064e-04, 7.48556204e-07,\n",
       "        5.44819995e-05, 6.65084808e-05],\n",
       "       [9.95996197e-06, 4.11246720e-06, 3.61337261e-05, 8.08923724e-05,\n",
       "        3.36096309e-06, 6.18110880e-06, 2.44610412e-08, 9.98467624e-01,\n",
       "        2.28119643e-06, 1.38938276e-03],\n",
       "       [2.00449235e-09, 1.30090001e-08, 2.38183429e-08, 1.81171966e-09,\n",
       "        9.99993205e-01, 6.47386713e-08, 5.32077031e-08, 3.76133649e-08,\n",
       "        1.71695319e-07, 6.51111714e-06],\n",
       "       [9.99837756e-01, 2.46891346e-07, 1.26993138e-04, 2.71355907e-06,\n",
       "        6.13451277e-07, 1.32624635e-07, 2.66046777e-06, 8.76568095e-07,\n",
       "        2.67282103e-05, 1.41564112e-06],\n",
       "       [1.90808114e-05, 9.98256862e-01, 1.90548351e-04, 1.68077197e-04,\n",
       "        4.51186264e-04, 8.36938416e-05, 8.99688457e-05, 1.24304148e-04,\n",
       "        5.07234421e-04, 1.09232744e-04],\n",
       "       [6.44450751e-08, 7.12458473e-07, 1.96522956e-06, 9.99735534e-01,\n",
       "        8.04587614e-08, 5.07471996e-05, 4.94739671e-09, 5.86772148e-05,\n",
       "        1.11212125e-06, 1.51078537e-04],\n",
       "       [8.37175958e-06, 9.98375058e-01, 8.97410864e-05, 6.57332930e-05,\n",
       "        4.92002582e-04, 5.75269914e-05, 2.05445340e-05, 3.81917576e-04,\n",
       "        1.47748229e-04, 3.61453509e-04]], dtype=float32)"
      ]
     },
     "execution_count": 53,
     "metadata": {},
     "output_type": "execute_result"
    }
   ],
   "source": [
    "preds"
   ]
  },
  {
   "cell_type": "code",
   "execution_count": 55,
   "metadata": {},
   "outputs": [
    {
     "data": {
      "text/plain": [
       "array([7, 2, 1, 0, 4, 1, 4, 9, 5, 9, 0, 6, 9, 0, 1, 5, 9, 7, 3, 4, 9, 6,\n",
       "       6, 5, 4, 0, 7, 4, 0, 1, 3, 1], dtype=int64)"
      ]
     },
     "execution_count": 55,
     "metadata": {},
     "output_type": "execute_result"
    }
   ],
   "source": [
    "np.argmax(preds,-1)"
   ]
  },
  {
   "cell_type": "code",
   "execution_count": 57,
   "metadata": {},
   "outputs": [
    {
     "data": {
      "image/png": "[encoded data removed]",
      "text/plain": [
       "<Figure size 432x288 with 1 Axes>"
      ]
     },
     "metadata": {
      "needs_background": "light"
     },
     "output_type": "display_data"
    }
   ],
   "source": [
    "plt.title(test_y[3])\n",
    "plt.imshow(test_batch[3,:,:,0], 'gray')\n",
    "plt.show()"
   ]
  },
  {
   "cell_type": "code",
   "execution_count": 58,
   "metadata": {},
   "outputs": [
    {
     "data": {
      "image/png": "[encoded data removed]",
      "text/plain": [
       "<Figure size 432x288 with 1 Axes>"
      ]
     },
     "metadata": {
      "needs_background": "light"
     },
     "output_type": "display_data"
    }
   ],
   "source": [
    "plt.title(test_y[2])\n",
    "plt.imshow(test_batch[2,:,:,0], 'gray')\n",
    "plt.show()"
   ]
  },
  {
   "cell_type": "code",
   "execution_count": 59,
   "metadata": {},
   "outputs": [
    {
     "data": {
      "image/png": "[encoded data removed]",
      "text/plain": [
       "<Figure size 432x288 with 1 Axes>"
      ]
     },
     "metadata": {
      "needs_background": "light"
     },
     "output_type": "display_data"
    }
   ],
   "source": [
    "plt.title(test_y[1])\n",
    "plt.imshow(test_batch[1,:,:,0], 'gray')\n",
    "plt.show()"
   ]
  },
  {
   "cell_type": "code",
   "execution_count": 60,
   "metadata": {},
   "outputs": [
    {
     "data": {
      "image/png": "[encoded data removed]",
      "text/plain": [
       "<Figure size 432x288 with 1 Axes>"
      ]
     },
     "metadata": {
      "needs_background": "light"
     },
     "output_type": "display_data"
    }
   ],
   "source": [
    "plt.title(test_y[0])\n",
    "plt.imshow(test_batch[0,:,:,0], 'gray')\n",
    "plt.show()"
   ]
  },
  {
   "cell_type": "code",
   "execution_count": null,
   "metadata": {},
   "outputs": [],
   "source": []
  }
 ],
 "metadata": {
  "kernelspec": {
   "display_name": "Python 3",
   "language": "python",
   "name": "python3"
  },
  "language_info": {
   "codemirror_mode": {
    "name": "ipython",
    "version": 3
   },
   "file_extension": ".py",
   "mimetype": "text/x-python",
   "name": "python",
   "nbconvert_exporter": "python",
   "pygments_lexer": "ipython3",
   "version": "3.7.2"
  }
 },
 "nbformat": 4,
 "nbformat_minor": 2
}
